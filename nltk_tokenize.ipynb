{
 "cells": [
  {
   "cell_type": "code",
   "execution_count": 1,
   "metadata": {},
   "outputs": [],
   "source": [
    "import nltk"
   ]
  },
  {
   "cell_type": "code",
   "execution_count": 2,
   "metadata": {},
   "outputs": [
    {
     "name": "stdout",
     "output_type": "stream",
     "text": [
      "showing info https://raw.githubusercontent.com/nltk/nltk_data/gh-pages/index.xml\n"
     ]
    },
    {
     "data": {
      "text/plain": [
       "True"
      ]
     },
     "execution_count": 2,
     "metadata": {},
     "output_type": "execute_result"
    }
   ],
   "source": [
    "nltk.download()"
   ]
  },
  {
   "cell_type": "code",
   "execution_count": 3,
   "metadata": {},
   "outputs": [],
   "source": [
    "# corpora - body of text.\n",
    "# lexicon - words and their meaning"
   ]
  },
  {
   "cell_type": "code",
   "execution_count": 4,
   "metadata": {},
   "outputs": [],
   "source": [
    "from nltk.tokenize import sent_tokenize, word_tokenize"
   ]
  },
  {
   "cell_type": "code",
   "execution_count": 8,
   "metadata": {},
   "outputs": [],
   "source": [
    "text = \"Google Cloud Platform, offered by Google, is a suite of cloud computing services that runs on the same infrastructure that Google uses internally for its end-user products, such as Google Search and YouTube. A look back at Next ’18: Watch recorded breakouts, keynotes, and more to get inspired, learn new skills, and discover how the cloud can power your business forward.\""
   ]
  },
  {
   "cell_type": "code",
   "execution_count": 9,
   "metadata": {},
   "outputs": [
    {
     "name": "stdout",
     "output_type": "stream",
     "text": [
      "['Google Cloud Platform, offered by Google, is a suite of cloud computing services that runs on the same infrastructure that Google uses internally for its end-user products, such as Google Search and YouTube.', 'A look back at Next ’18: Watch recorded breakouts, keynotes, and more to get inspired, learn new skills, and discover how the cloud can power your business forward.']\n"
     ]
    }
   ],
   "source": [
    "print(sent_tokenize(text))"
   ]
  },
  {
   "cell_type": "code",
   "execution_count": 10,
   "metadata": {},
   "outputs": [
    {
     "name": "stdout",
     "output_type": "stream",
     "text": [
      "['Google', 'Cloud', 'Platform', ',', 'offered', 'by', 'Google', ',', 'is', 'a', 'suite', 'of', 'cloud', 'computing', 'services', 'that', 'runs', 'on', 'the', 'same', 'infrastructure', 'that', 'Google', 'uses', 'internally', 'for', 'its', 'end-user', 'products', ',', 'such', 'as', 'Google', 'Search', 'and', 'YouTube', '.', 'A', 'look', 'back', 'at', 'Next', '’', '18', ':', 'Watch', 'recorded', 'breakouts', ',', 'keynotes', ',', 'and', 'more', 'to', 'get', 'inspired', ',', 'learn', 'new', 'skills', ',', 'and', 'discover', 'how', 'the', 'cloud', 'can', 'power', 'your', 'business', 'forward', '.']\n"
     ]
    }
   ],
   "source": [
    "print(word_tokenize(text))"
   ]
  },
  {
   "cell_type": "code",
   "execution_count": 11,
   "metadata": {},
   "outputs": [
    {
     "name": "stdout",
     "output_type": "stream",
     "text": [
      "Google\n",
      "Cloud\n",
      "Platform\n",
      ",\n",
      "offered\n",
      "by\n",
      "Google\n",
      ",\n",
      "is\n",
      "a\n",
      "suite\n",
      "of\n",
      "cloud\n",
      "computing\n",
      "services\n",
      "that\n",
      "runs\n",
      "on\n",
      "the\n",
      "same\n",
      "infrastructure\n",
      "that\n",
      "Google\n",
      "uses\n",
      "internally\n",
      "for\n",
      "its\n",
      "end-user\n",
      "products\n",
      ",\n",
      "such\n",
      "as\n",
      "Google\n",
      "Search\n",
      "and\n",
      "YouTube\n",
      ".\n",
      "A\n",
      "look\n",
      "back\n",
      "at\n",
      "Next\n",
      "’\n",
      "18\n",
      ":\n",
      "Watch\n",
      "recorded\n",
      "breakouts\n",
      ",\n",
      "keynotes\n",
      ",\n",
      "and\n",
      "more\n",
      "to\n",
      "get\n",
      "inspired\n",
      ",\n",
      "learn\n",
      "new\n",
      "skills\n",
      ",\n",
      "and\n",
      "discover\n",
      "how\n",
      "the\n",
      "cloud\n",
      "can\n",
      "power\n",
      "your\n",
      "business\n",
      "forward\n",
      ".\n"
     ]
    }
   ],
   "source": [
    "for i in word_tokenize(text):\n",
    "    print(i)"
   ]
  },
  {
   "cell_type": "code",
   "execution_count": null,
   "metadata": {},
   "outputs": [],
   "source": []
  }
 ],
 "metadata": {
  "kernelspec": {
   "display_name": "Python 3",
   "language": "python",
   "name": "python3"
  },
  "language_info": {
   "codemirror_mode": {
    "name": "ipython",
    "version": 3
   },
   "file_extension": ".py",
   "mimetype": "text/x-python",
   "name": "python",
   "nbconvert_exporter": "python",
   "pygments_lexer": "ipython3",
   "version": "3.6.5"
  }
 },
 "nbformat": 4,
 "nbformat_minor": 2
}
